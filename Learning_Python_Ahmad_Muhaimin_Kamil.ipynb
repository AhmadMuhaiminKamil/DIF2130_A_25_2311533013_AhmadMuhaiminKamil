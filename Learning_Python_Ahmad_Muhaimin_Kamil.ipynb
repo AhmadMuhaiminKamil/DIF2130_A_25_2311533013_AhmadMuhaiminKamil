{
  "nbformat": 4,
  "nbformat_minor": 0,
  "metadata": {
    "colab": {
      "provenance": []
    },
    "kernelspec": {
      "name": "python3",
      "display_name": "Python 3"
    },
    "language_info": {
      "name": "python"
    }
  },
  "cells": [
    {
      "cell_type": "code",
      "execution_count": 1,
      "metadata": {
        "colab": {
          "base_uri": "https://localhost:8080/"
        },
        "id": "w7hbxKNLhls9",
        "outputId": "f5328fe9-88c1-4f72-e73c-645389fb4083"
      },
      "outputs": [
        {
          "output_type": "stream",
          "name": "stdout",
          "text": [
            "0\n",
            "But I don't want ANY spam!\n",
            "Spam Spam Spam Spam \n"
          ]
        }
      ],
      "source": [
        "spam_amount = 0\n",
        "print(spam_amount)\n",
        "\n",
        "# Ordering Spam, egg, Spam, Spam, bacon and Spam (4 more servings of Spam)\n",
        "spam_amount = spam_amount + 4\n",
        "\n",
        "if spam_amount > 0:\n",
        "    print(\"But I don't want ANY spam!\")\n",
        "\n",
        "viking_song = \"Spam \" * spam_amount\n",
        "print(viking_song)"
      ]
    },
    {
      "cell_type": "code",
      "source": [
        "spam_amount = 0\n",
        "type(spam_amount)\n"
      ],
      "metadata": {
        "colab": {
          "base_uri": "https://localhost:8080/"
        },
        "id": "KlAQ_UgbkD8i",
        "outputId": "da913f5c-1c1f-4648-bcbf-4bf5faaf522d"
      },
      "execution_count": 6,
      "outputs": [
        {
          "output_type": "execute_result",
          "data": {
            "text/plain": [
              "int"
            ]
          },
          "metadata": {},
          "execution_count": 6
        }
      ]
    },
    {
      "cell_type": "code",
      "source": [
        "print(5 / 2)\n",
        "print(6 / 2)"
      ],
      "metadata": {
        "colab": {
          "base_uri": "https://localhost:8080/"
        },
        "id": "-wezWXihl9Ji",
        "outputId": "bb59b348-3684-45d4-9d3f-2ee120565908"
      },
      "execution_count": 7,
      "outputs": [
        {
          "output_type": "stream",
          "name": "stdout",
          "text": [
            "2.5\n",
            "3.0\n"
          ]
        }
      ]
    },
    {
      "cell_type": "code",
      "source": [
        "print(5 // 2)\n",
        "print(6 // 2)"
      ],
      "metadata": {
        "colab": {
          "base_uri": "https://localhost:8080/"
        },
        "id": "CHEc1abdmAp5",
        "outputId": "fb1ff0b4-7e83-46c3-c334-fd096963d6f7"
      },
      "execution_count": 8,
      "outputs": [
        {
          "output_type": "stream",
          "name": "stdout",
          "text": [
            "2\n",
            "3\n"
          ]
        }
      ]
    },
    {
      "cell_type": "code",
      "source": [
        "hat_height_cm = 25\n",
        "my_height_cm = 190\n",
        "# How tall am I, in meters, when wearing my hat?\n",
        "total_height_meters = hat_height_cm + my_height_cm / 100\n",
        "print(\"Height in meters =\", total_height_meters, \"?\")"
      ],
      "metadata": {
        "colab": {
          "base_uri": "https://localhost:8080/"
        },
        "id": "RqB40ZCTmN3w",
        "outputId": "843e6c37-e5ba-4e63-e30b-1b2c117214fb"
      },
      "execution_count": 9,
      "outputs": [
        {
          "output_type": "stream",
          "name": "stdout",
          "text": [
            "Height in meters = 26.9 ?\n"
          ]
        }
      ]
    },
    {
      "cell_type": "code",
      "source": [
        "print(min(1, 2, 3))\n",
        "print(max(1, 2, 3))"
      ],
      "metadata": {
        "colab": {
          "base_uri": "https://localhost:8080/"
        },
        "id": "KfvUJ1r-mXNh",
        "outputId": "46cc281e-c767-4fc2-e76d-80622d26c5b5"
      },
      "execution_count": 10,
      "outputs": [
        {
          "output_type": "stream",
          "name": "stdout",
          "text": [
            "1\n",
            "3\n"
          ]
        }
      ]
    },
    {
      "cell_type": "code",
      "source": [
        "print(abs(32))\n",
        "print(abs(-32))"
      ],
      "metadata": {
        "colab": {
          "base_uri": "https://localhost:8080/"
        },
        "id": "wEXnTQnfmZs5",
        "outputId": "1d262c1a-13d5-4aaf-c2fa-6be4adf32ba4"
      },
      "execution_count": 11,
      "outputs": [
        {
          "output_type": "stream",
          "name": "stdout",
          "text": [
            "32\n",
            "32\n"
          ]
        }
      ]
    },
    {
      "cell_type": "code",
      "source": [
        "print(float(10))\n",
        "print(int(3.33))\n",
        "# They can even be called on strings!\n",
        "print(int('807') + 1)"
      ],
      "metadata": {
        "colab": {
          "base_uri": "https://localhost:8080/"
        },
        "id": "e_AYBG2UmcJY",
        "outputId": "2bd7c39f-3d9d-4ada-f803-f3ad9711d547"
      },
      "execution_count": 12,
      "outputs": [
        {
          "output_type": "stream",
          "name": "stdout",
          "text": [
            "10.0\n",
            "3\n",
            "808\n"
          ]
        }
      ]
    },
    {
      "cell_type": "code",
      "source": [
        "help(round)"
      ],
      "metadata": {
        "colab": {
          "base_uri": "https://localhost:8080/"
        },
        "id": "O7M8Iruhpriw",
        "outputId": "0eee4364-cddf-4d91-f072-a4627e9dd279"
      },
      "execution_count": 14,
      "outputs": [
        {
          "output_type": "stream",
          "name": "stdout",
          "text": [
            "Help on built-in function round in module builtins:\n",
            "\n",
            "round(number, ndigits=None)\n",
            "    Round a number to a given precision in decimal digits.\n",
            "    \n",
            "    The return value is an integer if ndigits is omitted or None.  Otherwise\n",
            "    the return value has the same type as the number.  ndigits may be negative.\n",
            "\n"
          ]
        }
      ]
    },
    {
      "cell_type": "code",
      "source": [
        "help(round(-2.01))"
      ],
      "metadata": {
        "colab": {
          "base_uri": "https://localhost:8080/"
        },
        "id": "Ho9Q20TEp08Q",
        "outputId": "540c72d1-5795-4c69-d960-59e40b1efaa2"
      },
      "execution_count": 15,
      "outputs": [
        {
          "output_type": "stream",
          "name": "stdout",
          "text": [
            "Help on int object:\n",
            "\n",
            "class int(object)\n",
            " |  int([x]) -> integer\n",
            " |  int(x, base=10) -> integer\n",
            " |  \n",
            " |  Convert a number or string to an integer, or return 0 if no arguments\n",
            " |  are given.  If x is a number, return x.__int__().  For floating point\n",
            " |  numbers, this truncates towards zero.\n",
            " |  \n",
            " |  If x is not a number or if base is given, then x must be a string,\n",
            " |  bytes, or bytearray instance representing an integer literal in the\n",
            " |  given base.  The literal can be preceded by '+' or '-' and be surrounded\n",
            " |  by whitespace.  The base defaults to 10.  Valid bases are 0 and 2-36.\n",
            " |  Base 0 means to interpret the base from the string as an integer literal.\n",
            " |  >>> int('0b100', base=0)\n",
            " |  4\n",
            " |  \n",
            " |  Built-in subclasses:\n",
            " |      bool\n",
            " |  \n",
            " |  Methods defined here:\n",
            " |  \n",
            " |  __abs__(self, /)\n",
            " |      abs(self)\n",
            " |  \n",
            " |  __add__(self, value, /)\n",
            " |      Return self+value.\n",
            " |  \n",
            " |  __and__(self, value, /)\n",
            " |      Return self&value.\n",
            " |  \n",
            " |  __bool__(self, /)\n",
            " |      True if self else False\n",
            " |  \n",
            " |  __ceil__(...)\n",
            " |      Ceiling of an Integral returns itself.\n",
            " |  \n",
            " |  __divmod__(self, value, /)\n",
            " |      Return divmod(self, value).\n",
            " |  \n",
            " |  __eq__(self, value, /)\n",
            " |      Return self==value.\n",
            " |  \n",
            " |  __float__(self, /)\n",
            " |      float(self)\n",
            " |  \n",
            " |  __floor__(...)\n",
            " |      Flooring an Integral returns itself.\n",
            " |  \n",
            " |  __floordiv__(self, value, /)\n",
            " |      Return self//value.\n",
            " |  \n",
            " |  __format__(self, format_spec, /)\n",
            " |      Default object formatter.\n",
            " |  \n",
            " |  __ge__(self, value, /)\n",
            " |      Return self>=value.\n",
            " |  \n",
            " |  __getattribute__(self, name, /)\n",
            " |      Return getattr(self, name).\n",
            " |  \n",
            " |  __getnewargs__(self, /)\n",
            " |  \n",
            " |  __gt__(self, value, /)\n",
            " |      Return self>value.\n",
            " |  \n",
            " |  __hash__(self, /)\n",
            " |      Return hash(self).\n",
            " |  \n",
            " |  __index__(self, /)\n",
            " |      Return self converted to an integer, if self is suitable for use as an index into a list.\n",
            " |  \n",
            " |  __int__(self, /)\n",
            " |      int(self)\n",
            " |  \n",
            " |  __invert__(self, /)\n",
            " |      ~self\n",
            " |  \n",
            " |  __le__(self, value, /)\n",
            " |      Return self<=value.\n",
            " |  \n",
            " |  __lshift__(self, value, /)\n",
            " |      Return self<<value.\n",
            " |  \n",
            " |  __lt__(self, value, /)\n",
            " |      Return self<value.\n",
            " |  \n",
            " |  __mod__(self, value, /)\n",
            " |      Return self%value.\n",
            " |  \n",
            " |  __mul__(self, value, /)\n",
            " |      Return self*value.\n",
            " |  \n",
            " |  __ne__(self, value, /)\n",
            " |      Return self!=value.\n",
            " |  \n",
            " |  __neg__(self, /)\n",
            " |      -self\n",
            " |  \n",
            " |  __or__(self, value, /)\n",
            " |      Return self|value.\n",
            " |  \n",
            " |  __pos__(self, /)\n",
            " |      +self\n",
            " |  \n",
            " |  __pow__(self, value, mod=None, /)\n",
            " |      Return pow(self, value, mod).\n",
            " |  \n",
            " |  __radd__(self, value, /)\n",
            " |      Return value+self.\n",
            " |  \n",
            " |  __rand__(self, value, /)\n",
            " |      Return value&self.\n",
            " |  \n",
            " |  __rdivmod__(self, value, /)\n",
            " |      Return divmod(value, self).\n",
            " |  \n",
            " |  __repr__(self, /)\n",
            " |      Return repr(self).\n",
            " |  \n",
            " |  __rfloordiv__(self, value, /)\n",
            " |      Return value//self.\n",
            " |  \n",
            " |  __rlshift__(self, value, /)\n",
            " |      Return value<<self.\n",
            " |  \n",
            " |  __rmod__(self, value, /)\n",
            " |      Return value%self.\n",
            " |  \n",
            " |  __rmul__(self, value, /)\n",
            " |      Return value*self.\n",
            " |  \n",
            " |  __ror__(self, value, /)\n",
            " |      Return value|self.\n",
            " |  \n",
            " |  __round__(...)\n",
            " |      Rounding an Integral returns itself.\n",
            " |      \n",
            " |      Rounding with an ndigits argument also returns an integer.\n",
            " |  \n",
            " |  __rpow__(self, value, mod=None, /)\n",
            " |      Return pow(value, self, mod).\n",
            " |  \n",
            " |  __rrshift__(self, value, /)\n",
            " |      Return value>>self.\n",
            " |  \n",
            " |  __rshift__(self, value, /)\n",
            " |      Return self>>value.\n",
            " |  \n",
            " |  __rsub__(self, value, /)\n",
            " |      Return value-self.\n",
            " |  \n",
            " |  __rtruediv__(self, value, /)\n",
            " |      Return value/self.\n",
            " |  \n",
            " |  __rxor__(self, value, /)\n",
            " |      Return value^self.\n",
            " |  \n",
            " |  __sizeof__(self, /)\n",
            " |      Returns size in memory, in bytes.\n",
            " |  \n",
            " |  __sub__(self, value, /)\n",
            " |      Return self-value.\n",
            " |  \n",
            " |  __truediv__(self, value, /)\n",
            " |      Return self/value.\n",
            " |  \n",
            " |  __trunc__(...)\n",
            " |      Truncating an Integral returns itself.\n",
            " |  \n",
            " |  __xor__(self, value, /)\n",
            " |      Return self^value.\n",
            " |  \n",
            " |  as_integer_ratio(self, /)\n",
            " |      Return integer ratio.\n",
            " |      \n",
            " |      Return a pair of integers, whose ratio is exactly equal to the original int\n",
            " |      and with a positive denominator.\n",
            " |      \n",
            " |      >>> (10).as_integer_ratio()\n",
            " |      (10, 1)\n",
            " |      >>> (-10).as_integer_ratio()\n",
            " |      (-10, 1)\n",
            " |      >>> (0).as_integer_ratio()\n",
            " |      (0, 1)\n",
            " |  \n",
            " |  bit_count(self, /)\n",
            " |      Number of ones in the binary representation of the absolute value of self.\n",
            " |      \n",
            " |      Also known as the population count.\n",
            " |      \n",
            " |      >>> bin(13)\n",
            " |      '0b1101'\n",
            " |      >>> (13).bit_count()\n",
            " |      3\n",
            " |  \n",
            " |  bit_length(self, /)\n",
            " |      Number of bits necessary to represent self in binary.\n",
            " |      \n",
            " |      >>> bin(37)\n",
            " |      '0b100101'\n",
            " |      >>> (37).bit_length()\n",
            " |      6\n",
            " |  \n",
            " |  conjugate(...)\n",
            " |      Returns self, the complex conjugate of any int.\n",
            " |  \n",
            " |  to_bytes(self, /, length=1, byteorder='big', *, signed=False)\n",
            " |      Return an array of bytes representing an integer.\n",
            " |      \n",
            " |      length\n",
            " |        Length of bytes object to use.  An OverflowError is raised if the\n",
            " |        integer is not representable with the given number of bytes.  Default\n",
            " |        is length 1.\n",
            " |      byteorder\n",
            " |        The byte order used to represent the integer.  If byteorder is 'big',\n",
            " |        the most significant byte is at the beginning of the byte array.  If\n",
            " |        byteorder is 'little', the most significant byte is at the end of the\n",
            " |        byte array.  To request the native byte order of the host system, use\n",
            " |        `sys.byteorder' as the byte order value.  Default is to use 'big'.\n",
            " |      signed\n",
            " |        Determines whether two's complement is used to represent the integer.\n",
            " |        If signed is False and a negative integer is given, an OverflowError\n",
            " |        is raised.\n",
            " |  \n",
            " |  ----------------------------------------------------------------------\n",
            " |  Class methods defined here:\n",
            " |  \n",
            " |  from_bytes(bytes, byteorder='big', *, signed=False)\n",
            " |      Return the integer represented by the given array of bytes.\n",
            " |      \n",
            " |      bytes\n",
            " |        Holds the array of bytes to convert.  The argument must either\n",
            " |        support the buffer protocol or be an iterable object producing bytes.\n",
            " |        Bytes and bytearray are examples of built-in objects that support the\n",
            " |        buffer protocol.\n",
            " |      byteorder\n",
            " |        The byte order used to represent the integer.  If byteorder is 'big',\n",
            " |        the most significant byte is at the beginning of the byte array.  If\n",
            " |        byteorder is 'little', the most significant byte is at the end of the\n",
            " |        byte array.  To request the native byte order of the host system, use\n",
            " |        `sys.byteorder' as the byte order value.  Default is to use 'big'.\n",
            " |      signed\n",
            " |        Indicates whether two's complement is used to represent the integer.\n",
            " |  \n",
            " |  ----------------------------------------------------------------------\n",
            " |  Static methods defined here:\n",
            " |  \n",
            " |  __new__(*args, **kwargs)\n",
            " |      Create and return a new object.  See help(type) for accurate signature.\n",
            " |  \n",
            " |  ----------------------------------------------------------------------\n",
            " |  Data descriptors defined here:\n",
            " |  \n",
            " |  denominator\n",
            " |      the denominator of a rational number in lowest terms\n",
            " |  \n",
            " |  imag\n",
            " |      the imaginary part of a complex number\n",
            " |  \n",
            " |  numerator\n",
            " |      the numerator of a rational number in lowest terms\n",
            " |  \n",
            " |  real\n",
            " |      the real part of a complex number\n",
            "\n"
          ]
        }
      ]
    },
    {
      "cell_type": "code",
      "source": [
        "def least_difference(a, b, c):\n",
        "    diff1 = abs(a - b)\n",
        "    diff2 = abs(b - c)\n",
        "    diff3 = abs(a - c)\n",
        "    return min(diff1, diff2, diff3)"
      ],
      "metadata": {
        "id": "_DajdufKq5DR"
      },
      "execution_count": 16,
      "outputs": []
    },
    {
      "cell_type": "code",
      "source": [
        "print(\n",
        "    least_difference(1, 10, 100),\n",
        "    least_difference(1, 10, 10),\n",
        "    least_difference(5, 6, 7), # Python allows trailing commas in argument lists. How nice is that?\n",
        ")"
      ],
      "metadata": {
        "colab": {
          "base_uri": "https://localhost:8080/"
        },
        "id": "9gnRXqk7rLYg",
        "outputId": "ec708db9-ce84-40ea-9f30-811a51292a73"
      },
      "execution_count": 17,
      "outputs": [
        {
          "output_type": "stream",
          "name": "stdout",
          "text": [
            "9 0 1\n"
          ]
        }
      ]
    },
    {
      "cell_type": "code",
      "source": [
        "def least_difference(a, b, c):\n",
        "    \"\"\"Return the smallest difference between any two numbers\n",
        "    among a, b and c.\n",
        "\n",
        "    >>> least_difference(1, 5, -5)\n",
        "    4\n",
        "    \"\"\"\n",
        "    diff1 = abs(a - b)\n",
        "    diff2 = abs(b - c)\n",
        "    diff3 = abs(a - c)\n",
        "    return min(diff1, diff2, diff3)"
      ],
      "metadata": {
        "id": "H_pw8iFer5rh"
      },
      "execution_count": 20,
      "outputs": []
    },
    {
      "cell_type": "code",
      "source": [
        "def least_difference(a, b, c):\n",
        "    \"\"\"Return the smallest difference between any two numbers\n",
        "    among a, b and c.\n",
        "    \"\"\"\n",
        "    diff1 = abs(a - b)\n",
        "    diff2 = abs(b - c)\n",
        "    diff3 = abs(a - c)\n",
        "    min(diff1, diff2, diff3)\n",
        "\n",
        "print(\n",
        "    least_difference(1, 10, 100),\n",
        "    least_difference(1, 10, 10),\n",
        "    least_difference(5, 6, 7),\n",
        ")"
      ],
      "metadata": {
        "colab": {
          "base_uri": "https://localhost:8080/"
        },
        "id": "TA0Dr6Y7sGmA",
        "outputId": "5e567f9f-6882-47de-f2de-a4d2b418b91a"
      },
      "execution_count": 19,
      "outputs": [
        {
          "output_type": "stream",
          "name": "stdout",
          "text": [
            "None None None\n"
          ]
        }
      ]
    },
    {
      "cell_type": "code",
      "source": [
        "print(1, 2, 3, sep=' < ')"
      ],
      "metadata": {
        "colab": {
          "base_uri": "https://localhost:8080/"
        },
        "id": "9shcgeQ_szqn",
        "outputId": "3c7655d1-6537-467c-9c34-7d8f6ae4f49a"
      },
      "execution_count": 21,
      "outputs": [
        {
          "output_type": "stream",
          "name": "stdout",
          "text": [
            "1 < 2 < 3\n"
          ]
        }
      ]
    },
    {
      "cell_type": "code",
      "source": [
        "def greet(who=\"Colin\"):\n",
        "    print(\"Hello,\", who)\n",
        "\n",
        "greet()\n",
        "greet(who=\"Kaggle\")\n",
        "# (In this case, we don't need to specify the name of the argument, because it's unambiguous.)\n",
        "greet(\"world\")"
      ],
      "metadata": {
        "colab": {
          "base_uri": "https://localhost:8080/"
        },
        "id": "H_SYMAkStEd5",
        "outputId": "c9ecdb72-6a79-4b00-f02f-d9f4c8dcd0ad"
      },
      "execution_count": 22,
      "outputs": [
        {
          "output_type": "stream",
          "name": "stdout",
          "text": [
            "Hello, Colin\n",
            "Hello, Kaggle\n",
            "Hello, world\n"
          ]
        }
      ]
    },
    {
      "cell_type": "code",
      "source": [
        "def mult_by_five(x):\n",
        "    return 5 * x\n",
        "\n",
        "def call(fn, arg):\n",
        "    \"\"\"Call fn on arg\"\"\"\n",
        "    return fn(arg)\n",
        "\n",
        "def squared_call(fn, arg):\n",
        "    \"\"\"Call fn on the result of calling fn on arg\"\"\"\n",
        "    return fn(fn(arg))\n",
        "\n",
        "print(\n",
        "    call(mult_by_five, 1),\n",
        "    squared_call(mult_by_five, 1),\n",
        "    sep='\\n', # '\\n' is the newline character - it starts a new line\n",
        ")"
      ],
      "metadata": {
        "colab": {
          "base_uri": "https://localhost:8080/"
        },
        "id": "i_Fc99fHtTCw",
        "outputId": "b682b156-26d5-4f70-88f7-eb8ef263291e"
      },
      "execution_count": 23,
      "outputs": [
        {
          "output_type": "stream",
          "name": "stdout",
          "text": [
            "5\n",
            "25\n"
          ]
        }
      ]
    },
    {
      "cell_type": "code",
      "source": [
        "def mod_5(x):\n",
        "    \"\"\"Return the remainder of x after dividing by 5\"\"\"\n",
        "    return x % 5\n",
        "\n",
        "print(\n",
        "    'Which number is biggest?',\n",
        "    max(100, 51, 14),\n",
        "    'Which number is the biggest modulo 5?',\n",
        "    max(100, 51, 14, key=mod_5),\n",
        "    sep='\\n',\n",
        ")"
      ],
      "metadata": {
        "colab": {
          "base_uri": "https://localhost:8080/"
        },
        "id": "gPc8iHNdtlmp",
        "outputId": "b8af475f-db7f-4cf3-c786-242da16a7f7a"
      },
      "execution_count": 24,
      "outputs": [
        {
          "output_type": "stream",
          "name": "stdout",
          "text": [
            "Which number is biggest?\n",
            "100\n",
            "Which number is the biggest modulo 5?\n",
            "14\n"
          ]
        }
      ]
    },
    {
      "cell_type": "code",
      "source": [
        "x = True\n",
        "print(x)\n",
        "print(type(x))"
      ],
      "metadata": {
        "colab": {
          "base_uri": "https://localhost:8080/"
        },
        "id": "XeHu6kXxt8go",
        "outputId": "4b99d56f-dfcb-4286-b110-ce6f42fd2216"
      },
      "execution_count": 25,
      "outputs": [
        {
          "output_type": "stream",
          "name": "stdout",
          "text": [
            "True\n",
            "<class 'bool'>\n"
          ]
        }
      ]
    },
    {
      "cell_type": "code",
      "source": [
        "def can_run_for_president(age):\n",
        "    \"\"\"Can someone of the given age run for president in the US?\"\"\"\n",
        "    # The US Constitution says you must be at least 35 years old\n",
        "    return age >= 35\n",
        "\n",
        "print(\"Can a 19-year-old run for president?\", can_run_for_president(19))\n",
        "print(\"Can a 45-year-old run for president?\", can_run_for_president(45))"
      ],
      "metadata": {
        "colab": {
          "base_uri": "https://localhost:8080/"
        },
        "id": "XOjsU09WuTiJ",
        "outputId": "e49aab13-29e4-49f5-893d-b8b863666c4e"
      },
      "execution_count": 26,
      "outputs": [
        {
          "output_type": "stream",
          "name": "stdout",
          "text": [
            "Can a 19-year-old run for president? False\n",
            "Can a 45-year-old run for president? True\n"
          ]
        }
      ]
    },
    {
      "cell_type": "code",
      "source": [
        "def can_run_for_president(age, is_natural_born_citizen):\n",
        "    \"\"\"Can someone of the given age and citizenship status run for president in the US?\"\"\"\n",
        "    # The US Constitution says you must be a natural born citizen *and* at least 35 years old\n",
        "    return is_natural_born_citizen and (age >= 35)\n",
        "\n",
        "print(can_run_for_president(19, True))\n",
        "print(can_run_for_president(55, False))\n",
        "print(can_run_for_president(55, True))"
      ],
      "metadata": {
        "colab": {
          "base_uri": "https://localhost:8080/"
        },
        "id": "uLd98vFOucWI",
        "outputId": "c5f5eda2-46e8-4678-e42b-44836c3b95ff"
      },
      "execution_count": 27,
      "outputs": [
        {
          "output_type": "stream",
          "name": "stdout",
          "text": [
            "False\n",
            "False\n",
            "True\n"
          ]
        }
      ]
    },
    {
      "cell_type": "code",
      "source": [
        "def inspect(x):\n",
        "    if x == 0:\n",
        "        print(x, \"is zero\")\n",
        "    elif x > 0:\n",
        "        print(x, \"is positive\")\n",
        "    elif x < 0:\n",
        "        print(x, \"is negative\")\n",
        "    else:\n",
        "        print(x, \"is unlike anything I've ever seen...\")\n",
        "\n",
        "inspect(0)\n",
        "inspect(-15)"
      ],
      "metadata": {
        "colab": {
          "base_uri": "https://localhost:8080/"
        },
        "id": "0txhwNuluu7B",
        "outputId": "a3c327b4-63be-423c-cc97-54a6465f0fd5"
      },
      "execution_count": 28,
      "outputs": [
        {
          "output_type": "stream",
          "name": "stdout",
          "text": [
            "0 is zero\n",
            "-15 is negative\n"
          ]
        }
      ]
    },
    {
      "cell_type": "code",
      "source": [
        "def f(x):\n",
        "    if x > 0:\n",
        "        print(\"Only printed when x is positive; x =\", x)\n",
        "        print(\"Also only printed when x is positive; x =\", x)\n",
        "    print(\"Always printed, regardless of x's value; x =\", x)\n",
        "\n",
        "f(1)\n",
        "f(0)"
      ],
      "metadata": {
        "colab": {
          "base_uri": "https://localhost:8080/"
        },
        "id": "sLBxrfUVu8cI",
        "outputId": "9ac0604a-c79d-453e-af7e-870367e12487"
      },
      "execution_count": 29,
      "outputs": [
        {
          "output_type": "stream",
          "name": "stdout",
          "text": [
            "Only printed when x is positive; x = 1\n",
            "Also only printed when x is positive; x = 1\n",
            "Always printed, regardless of x's value; x = 1\n",
            "Always printed, regardless of x's value; x = 0\n"
          ]
        }
      ]
    },
    {
      "cell_type": "code",
      "source": [
        "print(bool(1)) # all numbers are treated as true, except 0\n",
        "print(bool(0))\n",
        "print(bool(\"asf\")) # all strings are treated as true, except the empty string \"\"\n",
        "print(bool(\"\"))\n",
        "# Generally empty sequences (strings, lists, and other types we've yet to see like lists and tuples)\n",
        "# are \"falsey\" and the rest are \"truthy\""
      ],
      "metadata": {
        "colab": {
          "base_uri": "https://localhost:8080/"
        },
        "id": "ouoRg1LdvLG5",
        "outputId": "70203be7-0224-4cbf-fac9-ebc625e7967a"
      },
      "execution_count": 31,
      "outputs": [
        {
          "output_type": "stream",
          "name": "stdout",
          "text": [
            "True\n",
            "False\n",
            "True\n",
            "False\n"
          ]
        }
      ]
    },
    {
      "cell_type": "code",
      "source": [
        "hands = [\n",
        "    ['J', 'Q', 'K'],\n",
        "    ['2', '2', '2'],\n",
        "    ['6', 'A', 'K'], # (Comma after the last element is optional)\n",
        "]\n",
        "# (I could also have written this on one line, but it can get hard to read)\n",
        "hands = [['J', 'Q', 'K'], ['2', '2', '2'], ['6', 'A', 'K']]"
      ],
      "metadata": {
        "id": "jqsYW0UOwA_T"
      },
      "execution_count": 32,
      "outputs": []
    },
    {
      "cell_type": "code",
      "source": [
        "planets = ['Mercury', 'Venus', 'Earth', 'Mars', 'Jupiter', 'Saturn', 'Uranus', 'Neptune']\n",
        "planets[0:3]\n"
      ],
      "metadata": {
        "colab": {
          "base_uri": "https://localhost:8080/"
        },
        "id": "9_IFHb3PwSoJ",
        "outputId": "ed93960e-6d8f-4769-d660-ce7ba914bb58"
      },
      "execution_count": 37,
      "outputs": [
        {
          "output_type": "execute_result",
          "data": {
            "text/plain": [
              "['Mercury', 'Venus', 'Earth']"
            ]
          },
          "metadata": {},
          "execution_count": 37
        }
      ]
    },
    {
      "cell_type": "code",
      "source": [
        "planets[3] = 'Malacandra'\n",
        "planets"
      ],
      "metadata": {
        "colab": {
          "base_uri": "https://localhost:8080/"
        },
        "id": "YBim8dibw0NQ",
        "outputId": "23da9e5d-2c06-4eb8-8797-b1cd2bc7996c"
      },
      "execution_count": 38,
      "outputs": [
        {
          "output_type": "execute_result",
          "data": {
            "text/plain": [
              "['Mercury',\n",
              " 'Venus',\n",
              " 'Earth',\n",
              " 'Malacandra',\n",
              " 'Jupiter',\n",
              " 'Saturn',\n",
              " 'Uranus',\n",
              " 'Neptune']"
            ]
          },
          "metadata": {},
          "execution_count": 38
        }
      ]
    },
    {
      "cell_type": "code",
      "source": [
        "# Pluto is a planet darn it!\n",
        "planets.append('Pluto')"
      ],
      "metadata": {
        "id": "vRDQca9pxK74"
      },
      "execution_count": 39,
      "outputs": []
    },
    {
      "cell_type": "code",
      "source": [
        "t = 1, 2, 3 # equivalent to above\n",
        "t\n"
      ],
      "metadata": {
        "colab": {
          "base_uri": "https://localhost:8080/"
        },
        "id": "mQQRuwhnxhQQ",
        "outputId": "0890482c-3cde-45e1-8261-7b8b883211e1"
      },
      "execution_count": 42,
      "outputs": [
        {
          "output_type": "execute_result",
          "data": {
            "text/plain": [
              "(1, 2, 3)"
            ]
          },
          "metadata": {},
          "execution_count": 42
        }
      ]
    },
    {
      "cell_type": "code",
      "source": [
        "planets = ['Mercury', 'Venus', 'Earth', 'Mars', 'Jupiter', 'Saturn', 'Uranus', 'Neptune']\n",
        "for planet in planets:\n",
        "    print(planet, end=' ') # print all on same line"
      ],
      "metadata": {
        "colab": {
          "base_uri": "https://localhost:8080/"
        },
        "id": "n8NCebYP6L9v",
        "outputId": "cacdca76-7b78-4c4a-eaa9-254f9415110f"
      },
      "execution_count": 43,
      "outputs": [
        {
          "output_type": "stream",
          "name": "stdout",
          "text": [
            "Mercury Venus Earth Mars Jupiter Saturn Uranus Neptune "
          ]
        }
      ]
    },
    {
      "cell_type": "code",
      "source": [
        "multiplicands = (2, 2, 2, 3, 3, 5)\n",
        "product = 1\n",
        "for mult in multiplicands:\n",
        "    product = product * mult\n",
        "product"
      ],
      "metadata": {
        "colab": {
          "base_uri": "https://localhost:8080/"
        },
        "id": "1rv_LIh86PXH",
        "outputId": "f77e2288-2109-4a90-ed73-1b90b086e191"
      },
      "execution_count": 44,
      "outputs": [
        {
          "output_type": "execute_result",
          "data": {
            "text/plain": [
              "360"
            ]
          },
          "metadata": {},
          "execution_count": 44
        }
      ]
    },
    {
      "cell_type": "code",
      "source": [
        "i = 0\n",
        "while i < 10:\n",
        "    print(i, end=' ')\n",
        "    i += 1 # increase the value of i by 1"
      ],
      "metadata": {
        "colab": {
          "base_uri": "https://localhost:8080/"
        },
        "id": "oCpvvHVY62T_",
        "outputId": "33a2a286-64cc-43e3-9b15-671e19c955bb"
      },
      "execution_count": 45,
      "outputs": [
        {
          "output_type": "stream",
          "name": "stdout",
          "text": [
            "0 1 2 3 4 5 6 7 8 9 "
          ]
        }
      ]
    },
    {
      "cell_type": "code",
      "source": [
        "squares = [n**2 for n in range(10)]\n",
        "squares"
      ],
      "metadata": {
        "colab": {
          "base_uri": "https://localhost:8080/"
        },
        "id": "LBwZUIyF7VK_",
        "outputId": "6d93406a-dfc0-43ae-8472-c0d30de655ad"
      },
      "execution_count": 46,
      "outputs": [
        {
          "output_type": "execute_result",
          "data": {
            "text/plain": [
              "[0, 1, 4, 9, 16, 25, 36, 49, 64, 81]"
            ]
          },
          "metadata": {},
          "execution_count": 46
        }
      ]
    },
    {
      "cell_type": "code",
      "source": [
        "x = 'Pluto is a planet'\n",
        "y = \"Pluto is a planet\"\n",
        "x == y"
      ],
      "metadata": {
        "colab": {
          "base_uri": "https://localhost:8080/"
        },
        "id": "Qv5NN_WK7omv",
        "outputId": "b7904585-1869-4c30-8405-f4d7a74a5578"
      },
      "execution_count": 47,
      "outputs": [
        {
          "output_type": "execute_result",
          "data": {
            "text/plain": [
              "True"
            ]
          },
          "metadata": {},
          "execution_count": 47
        }
      ]
    },
    {
      "cell_type": "code",
      "source": [
        "# Indexing\n",
        "planet = 'Pluto'\n",
        "planet[0]"
      ],
      "metadata": {
        "colab": {
          "base_uri": "https://localhost:8080/",
          "height": 35
        },
        "id": "HFPKmGVI7wLI",
        "outputId": "9c1c9dd0-ec34-4586-92b1-443fefd67b90"
      },
      "execution_count": 48,
      "outputs": [
        {
          "output_type": "execute_result",
          "data": {
            "text/plain": [
              "'P'"
            ],
            "application/vnd.google.colaboratory.intrinsic+json": {
              "type": "string"
            }
          },
          "metadata": {},
          "execution_count": 48
        }
      ]
    },
    {
      "cell_type": "code",
      "source": [
        "# Slicing\n",
        "planet[-3:]"
      ],
      "metadata": {
        "colab": {
          "base_uri": "https://localhost:8080/",
          "height": 35
        },
        "id": "pnmuF9we75iY",
        "outputId": "1a5f0e5b-dbea-4efd-e31f-a466d0f37ad7"
      },
      "execution_count": 49,
      "outputs": [
        {
          "output_type": "execute_result",
          "data": {
            "text/plain": [
              "'uto'"
            ],
            "application/vnd.google.colaboratory.intrinsic+json": {
              "type": "string"
            }
          },
          "metadata": {},
          "execution_count": 49
        }
      ]
    },
    {
      "cell_type": "code",
      "source": [
        "# How long is this string?\n",
        "len(planet)"
      ],
      "metadata": {
        "colab": {
          "base_uri": "https://localhost:8080/"
        },
        "id": "pLwaUrfK77KH",
        "outputId": "a13d87f6-e453-4ce3-b77b-e14da46056ac"
      },
      "execution_count": 50,
      "outputs": [
        {
          "output_type": "execute_result",
          "data": {
            "text/plain": [
              "5"
            ]
          },
          "metadata": {},
          "execution_count": 50
        }
      ]
    },
    {
      "cell_type": "code",
      "source": [
        "numbers = {'one':1, 'two':2, 'three':3}"
      ],
      "metadata": {
        "id": "w_YpnZKQ8WzA"
      },
      "execution_count": 51,
      "outputs": []
    },
    {
      "cell_type": "code",
      "source": [
        "numbers['one']"
      ],
      "metadata": {
        "colab": {
          "base_uri": "https://localhost:8080/"
        },
        "id": "86ipREHJ8eZI",
        "outputId": "b7efcc87-204a-41bf-9251-d060961b3aeb"
      },
      "execution_count": 52,
      "outputs": [
        {
          "output_type": "execute_result",
          "data": {
            "text/plain": [
              "1"
            ]
          },
          "metadata": {},
          "execution_count": 52
        }
      ]
    },
    {
      "cell_type": "code",
      "source": [
        "planets = ['Mercury', 'Venus', 'Earth', 'Mars', 'Jupiter', 'Saturn', 'Uranus', 'Neptune']\n",
        "planet_to_initial = {planet: planet[0] for planet in planets}\n",
        "planet_to_initial"
      ],
      "metadata": {
        "colab": {
          "base_uri": "https://localhost:8080/"
        },
        "id": "xzeQXmUw8zK2",
        "outputId": "77294a00-4664-4d75-94c7-79f52db77ce3"
      },
      "execution_count": 53,
      "outputs": [
        {
          "output_type": "execute_result",
          "data": {
            "text/plain": [
              "{'Mercury': 'M',\n",
              " 'Venus': 'V',\n",
              " 'Earth': 'E',\n",
              " 'Mars': 'M',\n",
              " 'Jupiter': 'J',\n",
              " 'Saturn': 'S',\n",
              " 'Uranus': 'U',\n",
              " 'Neptune': 'N'}"
            ]
          },
          "metadata": {},
          "execution_count": 53
        }
      ]
    },
    {
      "cell_type": "code",
      "source": [
        "import math\n",
        "\n",
        "print(\"It's math! It has type {}\".format(type(math)))\n",
        "print(dir(math))\n"
      ],
      "metadata": {
        "colab": {
          "base_uri": "https://localhost:8080/"
        },
        "id": "LFke4byN9KBA",
        "outputId": "9fd5f7c3-e3c3-4e40-bbef-61341559ab23"
      },
      "execution_count": 55,
      "outputs": [
        {
          "output_type": "stream",
          "name": "stdout",
          "text": [
            "It's math! It has type <class 'module'>\n",
            "['__doc__', '__loader__', '__name__', '__package__', '__spec__', 'acos', 'acosh', 'asin', 'asinh', 'atan', 'atan2', 'atanh', 'cbrt', 'ceil', 'comb', 'copysign', 'cos', 'cosh', 'degrees', 'dist', 'e', 'erf', 'erfc', 'exp', 'exp2', 'expm1', 'fabs', 'factorial', 'floor', 'fmod', 'frexp', 'fsum', 'gamma', 'gcd', 'hypot', 'inf', 'isclose', 'isfinite', 'isinf', 'isnan', 'isqrt', 'lcm', 'ldexp', 'lgamma', 'log', 'log10', 'log1p', 'log2', 'modf', 'nan', 'nextafter', 'perm', 'pi', 'pow', 'prod', 'radians', 'remainder', 'sin', 'sinh', 'sqrt', 'tan', 'tanh', 'tau', 'trunc', 'ulp']\n"
          ]
        }
      ]
    },
    {
      "cell_type": "code",
      "source": [
        "print(\"pi to 4 significant digits = {:.4}\".format(math.pi))"
      ],
      "metadata": {
        "colab": {
          "base_uri": "https://localhost:8080/"
        },
        "id": "hzWK7OtX9TXH",
        "outputId": "16433c25-7640-4561-fade-d9331f51f06c"
      },
      "execution_count": 56,
      "outputs": [
        {
          "output_type": "stream",
          "name": "stdout",
          "text": [
            "pi to 4 significant digits = 3.142\n"
          ]
        }
      ]
    }
  ]
}